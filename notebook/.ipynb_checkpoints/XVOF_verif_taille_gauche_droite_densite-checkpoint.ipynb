{
 "metadata": {
  "name": "",
  "signature": "sha256:7d54ee85f2dd7a89a8b3b91d04989c8521bfc0af02272402d419b656eefdbcf6"
 },
 "nbformat": 3,
 "nbformat_minor": 0,
 "worksheets": [
  {
   "cells": [
    {
     "cell_type": "heading",
     "level": 1,
     "metadata": {},
     "source": [
      "Calcul des nouvelles tailles des parties sectionn\u00e9es des \u00e9l\u00e9ments enrichis (Eq 3.88 et 3.89)"
     ]
    },
    {
     "cell_type": "code",
     "collapsed": false,
     "input": [
      "Lg_n = 0.000103908305743"
     ],
     "language": "python",
     "metadata": {},
     "outputs": [],
     "prompt_number": 22
    },
    {
     "cell_type": "code",
     "collapsed": false,
     "input": [
      "Ld_n = 0.000103908305743"
     ],
     "language": "python",
     "metadata": {},
     "outputs": [],
     "prompt_number": 36
    },
    {
     "cell_type": "code",
     "collapsed": false,
     "input": [
      "Vd_cls = 15.68288727"
     ],
     "language": "python",
     "metadata": {},
     "outputs": [],
     "prompt_number": 37
    },
    {
     "cell_type": "code",
     "collapsed": false,
     "input": [
      "Vd_enr = 16.59350136"
     ],
     "language": "python",
     "metadata": {},
     "outputs": [],
     "prompt_number": 38
    },
    {
     "cell_type": "code",
     "collapsed": false,
     "input": [
      "Vg_cls = -15.68288727"
     ],
     "language": "python",
     "metadata": {},
     "outputs": [],
     "prompt_number": 39
    },
    {
     "cell_type": "code",
     "collapsed": false,
     "input": [
      "Vg_enr = 16.59350136"
     ],
     "language": "python",
     "metadata": {},
     "outputs": [],
     "prompt_number": 40
    },
    {
     "cell_type": "code",
     "collapsed": false,
     "input": [
      "RHOg_n = 7664.92796304"
     ],
     "language": "python",
     "metadata": {},
     "outputs": [],
     "prompt_number": 41
    },
    {
     "cell_type": "code",
     "collapsed": false,
     "input": [
      "RHOd_n = 7664.92796304"
     ],
     "language": "python",
     "metadata": {},
     "outputs": [],
     "prompt_number": 42
    },
    {
     "cell_type": "code",
     "collapsed": false,
     "input": [
      "dt = 4.0e-09"
     ],
     "language": "python",
     "metadata": {},
     "outputs": [],
     "prompt_number": 43
    },
    {
     "cell_type": "code",
     "collapsed": false,
     "input": [
      "Lg_npun = Lg_n + ((Vd_cls - Vd_enr) * 0.5 - (Vg_cls - Vg_enr) * 0.5) * dt"
     ],
     "language": "python",
     "metadata": {},
     "outputs": [],
     "prompt_number": 44
    },
    {
     "cell_type": "code",
     "collapsed": false,
     "input": [
      "print \"Taille gauche \u00e0 t+dt = {:15.9g}\".format(Lg_npun)"
     ],
     "language": "python",
     "metadata": {},
     "outputs": [
      {
       "output_type": "stream",
       "stream": "stdout",
       "text": [
        "Taille gauche \u00e0 t+dt =  0.000103971037\n"
       ]
      }
     ],
     "prompt_number": 45
    },
    {
     "cell_type": "code",
     "collapsed": false,
     "input": [
      "Ld_npun = Ld_n + ((Vd_cls + Vd_enr) * 0.5 - (Vg_cls + Vg_enr) * 0.5) * dt"
     ],
     "language": "python",
     "metadata": {},
     "outputs": [],
     "prompt_number": 50
    },
    {
     "cell_type": "code",
     "collapsed": false,
     "input": [
      "print \"Taille droite \u00e0 t+dt = {:15.9g}\".format(Ld_npun)"
     ],
     "language": "python",
     "metadata": {},
     "outputs": [
      {
       "output_type": "stream",
       "stream": "stdout",
       "text": [
        "Taille droite \u00e0 t+dt =  0.000103971037\n"
       ]
      }
     ],
     "prompt_number": 51
    },
    {
     "cell_type": "code",
     "collapsed": false,
     "input": [
      "RHOg_npun = RHOg_n * Lg_n / Lg_npun"
     ],
     "language": "python",
     "metadata": {},
     "outputs": [],
     "prompt_number": 48
    },
    {
     "cell_type": "code",
     "collapsed": false,
     "input": [
      "RHOd_npun = RHOd_n * Ld_n / Ld_npun"
     ],
     "language": "python",
     "metadata": {},
     "outputs": [],
     "prompt_number": 49
    },
    {
     "cell_type": "code",
     "collapsed": false,
     "input": [
      "print \"Densite gauche \u00e0 t+dt = {:15.9g}\".format(RHOg_npun)"
     ],
     "language": "python",
     "metadata": {},
     "outputs": [
      {
       "output_type": "stream",
       "stream": "stdout",
       "text": [
        "Densite gauche \u00e0 t+dt =      7660.30328\n"
       ]
      }
     ],
     "prompt_number": 52
    },
    {
     "cell_type": "code",
     "collapsed": false,
     "input": [
      "print \"Densite droite \u00e0 t+dt = {:15.9g}\".format(RHOd_npun)"
     ],
     "language": "python",
     "metadata": {},
     "outputs": [
      {
       "output_type": "stream",
       "stream": "stdout",
       "text": [
        "Densite droite \u00e0 t+dt =      7660.30328\n"
       ]
      }
     ],
     "prompt_number": 53
    },
    {
     "cell_type": "code",
     "collapsed": false,
     "input": [],
     "language": "python",
     "metadata": {},
     "outputs": []
    }
   ],
   "metadata": {}
  }
 ]
}