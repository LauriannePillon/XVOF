{
 "metadata": {
  "name": "",
  "signature": "sha256:6838a5555b0cf63643a25c10b7e8952a9b521245d96d242e5a2e5303c160e60e"
 },
 "nbformat": 3,
 "nbformat_minor": 0,
 "worksheets": [
  {
   "cells": [
    {
     "cell_type": "heading",
     "level": 1,
     "metadata": {},
     "source": [
      "Noeud de gauche"
     ]
    },
    {
     "cell_type": "code",
     "collapsed": false,
     "input": [
      "Pg = -6612184927.55\n",
      "Pd_cls =  -7005642237.34\n",
      "Pd_enr = 0.\n",
      "section = 1.0e-06"
     ],
     "language": "python",
     "metadata": {},
     "outputs": [],
     "prompt_number": 6
    },
    {
     "cell_type": "code",
     "collapsed": false,
     "input": [
      "Force_classique = (Pg - Pd_cls) * section"
     ],
     "language": "python",
     "metadata": {},
     "outputs": [],
     "prompt_number": 7
    },
    {
     "cell_type": "code",
     "collapsed": false,
     "input": [
      "Force_enrichie = (-Pg - Pd_enr) * section"
     ],
     "language": "python",
     "metadata": {},
     "outputs": [],
     "prompt_number": 8
    },
    {
     "cell_type": "code",
     "collapsed": false,
     "input": [
      "print \"Force classique sur le noeud gauche : {:15.9g}\".format(Force_classique)"
     ],
     "language": "python",
     "metadata": {},
     "outputs": [
      {
       "output_type": "stream",
       "stream": "stdout",
       "text": [
        "Force classique sur le noeud gauche :       393.45731\n"
       ]
      }
     ],
     "prompt_number": 9
    },
    {
     "cell_type": "code",
     "collapsed": false,
     "input": [
      "print \"Force enrichie sur le noeud gauche : {:15.9g}\".format(Force_enrichie)"
     ],
     "language": "python",
     "metadata": {},
     "outputs": [
      {
       "output_type": "stream",
       "stream": "stdout",
       "text": [
        "Force enrichie sur le noeud gauche :      6612.18493\n"
       ]
      }
     ],
     "prompt_number": 10
    },
    {
     "cell_type": "heading",
     "level": 1,
     "metadata": {},
     "source": [
      "Noeud de droite"
     ]
    },
    {
     "cell_type": "code",
     "collapsed": false,
     "input": [
      "Pg_cls = -7005642237.34\n",
      "Pg_enr = 0.\n",
      "Pd = -6612184927.55\n",
      "section = 1.0e-06"
     ],
     "language": "python",
     "metadata": {},
     "outputs": [],
     "prompt_number": 11
    },
    {
     "cell_type": "code",
     "collapsed": false,
     "input": [
      "Force_classique = (Pg_cls - Pd) * section"
     ],
     "language": "python",
     "metadata": {},
     "outputs": [],
     "prompt_number": 12
    },
    {
     "cell_type": "code",
     "collapsed": false,
     "input": [
      "Force_enrichie = (Pg_enr - Pd) * section"
     ],
     "language": "python",
     "metadata": {},
     "outputs": [],
     "prompt_number": 13
    },
    {
     "cell_type": "code",
     "collapsed": false,
     "input": [
      "print \"Force classique sur le noeud droit : {:15.9g}\".format(Force_classique)"
     ],
     "language": "python",
     "metadata": {},
     "outputs": [
      {
       "output_type": "stream",
       "stream": "stdout",
       "text": [
        "Force classique sur le noeud droit :      -393.45731\n"
       ]
      }
     ],
     "prompt_number": 14
    },
    {
     "cell_type": "code",
     "collapsed": false,
     "input": [
      "print \"Force enrichie sur le noeud droit : {:15.9g}\".format(Force_enrichie)"
     ],
     "language": "python",
     "metadata": {},
     "outputs": [
      {
       "output_type": "stream",
       "stream": "stdout",
       "text": [
        "Force enrichie sur le noeud droit :      6612.18493\n"
       ]
      }
     ],
     "prompt_number": 15
    },
    {
     "cell_type": "code",
     "collapsed": false,
     "input": [],
     "language": "python",
     "metadata": {},
     "outputs": []
    }
   ],
   "metadata": {}
  }
 ]
}